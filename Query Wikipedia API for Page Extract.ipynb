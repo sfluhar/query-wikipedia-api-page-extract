{
 "cells": [
  {
   "cell_type": "markdown",
   "metadata": {},
   "source": [
    "Based on exercises in the [Importing Data in Python (Part 2)](https://www.datacamp.com/courses/importing-data-in-python-part-2) DataCamp course. This program asks the user to enter a topic that can be found in Wikipedia. It then uses the [Wikipedia API](https://en.wikipedia.org/w/api.php) to retrieve the extract found at the beginning of the page for that topic in Wikipedia. The output is formatted and printed as an HTML document. Lastly, the program can determine if the user has landed on a [dismbiguation page](https://en.wikipedia.org/wiki/Category:Disambiguation_pages) and needs to make their topic more specific."
   ]
  },
  {
   "cell_type": "code",
   "execution_count": 1,
   "metadata": {},
   "outputs": [],
   "source": [
    "# Import package\n",
    "import requests\n",
    "import json\n",
    "from IPython.core.display import display, HTML"
   ]
  },
  {
   "cell_type": "code",
   "execution_count": 2,
   "metadata": {},
   "outputs": [
    {
     "name": "stdout",
     "output_type": "stream",
     "text": [
      "Enter a Wikipedia topic and press enter:\n",
      "python\n"
     ]
    }
   ],
   "source": [
    "# request a topic from the user that can be looked up in Wikipedia\n",
    "print('Enter a Wikipedia topic and press enter:')\n",
    "x = input()"
   ]
  },
  {
   "cell_type": "code",
   "execution_count": 3,
   "metadata": {},
   "outputs": [],
   "source": [
    "# this string contains most of the syntax required for the Wikipedia API\n",
    "urlstart = 'https://en.wikipedia.org/w/api.php?action=query&prop=extracts&format=json&exintro=&titles='"
   ]
  },
  {
   "cell_type": "code",
   "execution_count": 4,
   "metadata": {},
   "outputs": [],
   "source": [
    "# concatentate the input topic with the above string to form the full API call\n",
    "url = urlstart + x"
   ]
  },
  {
   "cell_type": "code",
   "execution_count": 5,
   "metadata": {},
   "outputs": [],
   "source": [
    "# Package the request, send the request and catch the response\n",
    "r = requests.get(url)"
   ]
  },
  {
   "cell_type": "code",
   "execution_count": 6,
   "metadata": {},
   "outputs": [],
   "source": [
    "# Decode the JSON data, received from Wikipedia, into a dictionary\n",
    "json_data = r.json()"
   ]
  },
  {
   "cell_type": "code",
   "execution_count": 7,
   "metadata": {},
   "outputs": [],
   "source": [
    "# Fetch the pageid number that is unique to the Wikipedia page that belongs to the selected topic\n",
    "pageid = json_data['query']['pages']\n",
    "key = list(pageid.keys())"
   ]
  },
  {
   "cell_type": "code",
   "execution_count": 8,
   "metadata": {},
   "outputs": [],
   "source": [
    "# Fetch the Wikipedia page extract\n",
    "extract = json_data['query']['pages'][key[0]]['extract']"
   ]
  },
  {
   "cell_type": "code",
   "execution_count": 9,
   "metadata": {},
   "outputs": [
    {
     "data": {
      "text/html": [
       "<p><b>Python</b> may refer to:\n",
       "</p>"
      ],
      "text/plain": [
       "<IPython.core.display.HTML object>"
      ]
     },
     "metadata": {},
     "output_type": "display_data"
    }
   ],
   "source": [
    "# print the extract in HTML format\n",
    "display(HTML(extract))"
   ]
  },
  {
   "cell_type": "code",
   "execution_count": 13,
   "metadata": {},
   "outputs": [
    {
     "name": "stdout",
     "output_type": "stream",
     "text": [
      "Your topic was not specific enough. More than one page in Wikipedia has that same word in its title. Run the program again with a more narrow topic.\n"
     ]
    }
   ],
   "source": [
    "# print instructions if the user lands on a disambiguation page in Wikipedia\n",
    "if \"may refer to\" in extract:\n",
    "    print(\"Your topic was not specific enough. More than one page in Wikipedia has that same word in its title. \" +\n",
    "          \"Run the program again with a more narrow topic.\")"
   ]
  },
  {
   "cell_type": "code",
   "execution_count": null,
   "metadata": {},
   "outputs": [],
   "source": []
  }
 ],
 "metadata": {
  "kernelspec": {
   "display_name": "Python 3",
   "language": "python",
   "name": "python3"
  },
  "language_info": {
   "codemirror_mode": {
    "name": "ipython",
    "version": 3
   },
   "file_extension": ".py",
   "mimetype": "text/x-python",
   "name": "python",
   "nbconvert_exporter": "python",
   "pygments_lexer": "ipython3",
   "version": "3.6.4"
  }
 },
 "nbformat": 4,
 "nbformat_minor": 2
}
